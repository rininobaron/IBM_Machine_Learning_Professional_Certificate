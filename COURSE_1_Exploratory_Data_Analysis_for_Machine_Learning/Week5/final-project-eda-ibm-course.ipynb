{
 "cells": [
  {
   "cell_type": "markdown",
   "id": "3d1aa5ca",
   "metadata": {
    "papermill": {
     "duration": 0.007762,
     "end_time": "2023-08-08T07:48:44.004029",
     "exception": false,
     "start_time": "2023-08-08T07:48:43.996267",
     "status": "completed"
    },
    "tags": []
   },
   "source": [
    "# Final Project"
   ]
  },
  {
   "cell_type": "markdown",
   "id": "1464cbea",
   "metadata": {
    "papermill": {
     "duration": 0.006945,
     "end_time": "2023-08-08T07:48:44.018338",
     "exception": false,
     "start_time": "2023-08-08T07:48:44.011393",
     "status": "completed"
    },
    "tags": []
   },
   "source": [
    "# Import libraries"
   ]
  },
  {
   "cell_type": "code",
   "execution_count": 1,
   "id": "38a638c9",
   "metadata": {
    "execution": {
     "iopub.execute_input": "2023-08-08T07:48:44.035171Z",
     "iopub.status.busy": "2023-08-08T07:48:44.034760Z",
     "iopub.status.idle": "2023-08-08T07:48:45.555711Z",
     "shell.execute_reply": "2023-08-08T07:48:45.554475Z"
    },
    "papermill": {
     "duration": 1.532684,
     "end_time": "2023-08-08T07:48:45.558607",
     "exception": false,
     "start_time": "2023-08-08T07:48:44.025923",
     "status": "completed"
    },
    "tags": []
   },
   "outputs": [
    {
     "name": "stderr",
     "output_type": "stream",
     "text": [
      "/opt/conda/lib/python3.10/site-packages/scipy/__init__.py:146: UserWarning: A NumPy version >=1.16.5 and <1.23.0 is required for this version of SciPy (detected version 1.23.5\n",
      "  warnings.warn(f\"A NumPy version >={np_minversion} and <{np_maxversion}\"\n"
     ]
    }
   ],
   "source": [
    "import numpy as np\n",
    "import pandas as pd\n",
    "import matplotlib.pyplot as plt\n",
    "import seaborn as sns"
   ]
  },
  {
   "cell_type": "markdown",
   "id": "c445369f",
   "metadata": {
    "papermill": {
     "duration": 0.00762,
     "end_time": "2023-08-08T07:48:45.573823",
     "exception": false,
     "start_time": "2023-08-08T07:48:45.566203",
     "status": "completed"
    },
    "tags": []
   },
   "source": [
    "# Data Cleaning\n",
    "\n",
    "Data cleaning is a crucial step in the data preparation process for any analysis, modeling, or decision-making task involving data. It involves identifying and rectifying errors, inconsistencies, inaccuracies, and other issues present in a dataset. "
   ]
  },
  {
   "cell_type": "markdown",
   "id": "b39781fd",
   "metadata": {
    "execution": {
     "iopub.execute_input": "2023-08-08T06:40:28.497757Z",
     "iopub.status.busy": "2023-08-08T06:40:28.495924Z",
     "iopub.status.idle": "2023-08-08T06:40:28.503401Z",
     "shell.execute_reply": "2023-08-08T06:40:28.501928Z",
     "shell.execute_reply.started": "2023-08-08T06:40:28.497709Z"
    },
    "papermill": {
     "duration": 0.007025,
     "end_time": "2023-08-08T07:48:45.588253",
     "exception": false,
     "start_time": "2023-08-08T07:48:45.581228",
     "status": "completed"
    },
    "tags": []
   },
   "source": [
    "## Reading and understanding our data"
   ]
  },
  {
   "cell_type": "code",
   "execution_count": 2,
   "id": "2271af74",
   "metadata": {
    "execution": {
     "iopub.execute_input": "2023-08-08T07:48:45.604846Z",
     "iopub.status.busy": "2023-08-08T07:48:45.604449Z",
     "iopub.status.idle": "2023-08-08T07:48:47.068334Z",
     "shell.execute_reply": "2023-08-08T07:48:47.067026Z"
    },
    "papermill": {
     "duration": 1.475323,
     "end_time": "2023-08-08T07:48:47.070974",
     "exception": false,
     "start_time": "2023-08-08T07:48:45.595651",
     "status": "completed"
    },
    "tags": []
   },
   "outputs": [
    {
     "data": {
      "text/html": [
       "<div>\n",
       "<style scoped>\n",
       "    .dataframe tbody tr th:only-of-type {\n",
       "        vertical-align: middle;\n",
       "    }\n",
       "\n",
       "    .dataframe tbody tr th {\n",
       "        vertical-align: top;\n",
       "    }\n",
       "\n",
       "    .dataframe thead th {\n",
       "        text-align: right;\n",
       "    }\n",
       "</style>\n",
       "<table border=\"1\" class=\"dataframe\">\n",
       "  <thead>\n",
       "    <tr style=\"text-align: right;\">\n",
       "      <th></th>\n",
       "      <th>General_Health</th>\n",
       "      <th>Checkup</th>\n",
       "      <th>Exercise</th>\n",
       "      <th>Heart_Disease</th>\n",
       "      <th>Skin_Cancer</th>\n",
       "      <th>Other_Cancer</th>\n",
       "      <th>Depression</th>\n",
       "      <th>Diabetes</th>\n",
       "      <th>Arthritis</th>\n",
       "      <th>Sex</th>\n",
       "      <th>Age_Category</th>\n",
       "      <th>Height_(cm)</th>\n",
       "      <th>Weight_(kg)</th>\n",
       "      <th>BMI</th>\n",
       "      <th>Smoking_History</th>\n",
       "      <th>Alcohol_Consumption</th>\n",
       "      <th>Fruit_Consumption</th>\n",
       "      <th>Green_Vegetables_Consumption</th>\n",
       "      <th>FriedPotato_Consumption</th>\n",
       "    </tr>\n",
       "  </thead>\n",
       "  <tbody>\n",
       "    <tr>\n",
       "      <th>0</th>\n",
       "      <td>Poor</td>\n",
       "      <td>Within the past 2 years</td>\n",
       "      <td>No</td>\n",
       "      <td>No</td>\n",
       "      <td>No</td>\n",
       "      <td>No</td>\n",
       "      <td>No</td>\n",
       "      <td>No</td>\n",
       "      <td>Yes</td>\n",
       "      <td>Female</td>\n",
       "      <td>70-74</td>\n",
       "      <td>150.0</td>\n",
       "      <td>32.66</td>\n",
       "      <td>14.54</td>\n",
       "      <td>Yes</td>\n",
       "      <td>0.0</td>\n",
       "      <td>30.0</td>\n",
       "      <td>16.0</td>\n",
       "      <td>12.0</td>\n",
       "    </tr>\n",
       "    <tr>\n",
       "      <th>1</th>\n",
       "      <td>Very Good</td>\n",
       "      <td>Within the past year</td>\n",
       "      <td>No</td>\n",
       "      <td>Yes</td>\n",
       "      <td>No</td>\n",
       "      <td>No</td>\n",
       "      <td>No</td>\n",
       "      <td>Yes</td>\n",
       "      <td>No</td>\n",
       "      <td>Female</td>\n",
       "      <td>70-74</td>\n",
       "      <td>165.0</td>\n",
       "      <td>77.11</td>\n",
       "      <td>28.29</td>\n",
       "      <td>No</td>\n",
       "      <td>0.0</td>\n",
       "      <td>30.0</td>\n",
       "      <td>0.0</td>\n",
       "      <td>4.0</td>\n",
       "    </tr>\n",
       "    <tr>\n",
       "      <th>2</th>\n",
       "      <td>Very Good</td>\n",
       "      <td>Within the past year</td>\n",
       "      <td>Yes</td>\n",
       "      <td>No</td>\n",
       "      <td>No</td>\n",
       "      <td>No</td>\n",
       "      <td>No</td>\n",
       "      <td>Yes</td>\n",
       "      <td>No</td>\n",
       "      <td>Female</td>\n",
       "      <td>60-64</td>\n",
       "      <td>163.0</td>\n",
       "      <td>88.45</td>\n",
       "      <td>33.47</td>\n",
       "      <td>No</td>\n",
       "      <td>4.0</td>\n",
       "      <td>12.0</td>\n",
       "      <td>3.0</td>\n",
       "      <td>16.0</td>\n",
       "    </tr>\n",
       "    <tr>\n",
       "      <th>3</th>\n",
       "      <td>Poor</td>\n",
       "      <td>Within the past year</td>\n",
       "      <td>Yes</td>\n",
       "      <td>Yes</td>\n",
       "      <td>No</td>\n",
       "      <td>No</td>\n",
       "      <td>No</td>\n",
       "      <td>Yes</td>\n",
       "      <td>No</td>\n",
       "      <td>Male</td>\n",
       "      <td>75-79</td>\n",
       "      <td>180.0</td>\n",
       "      <td>93.44</td>\n",
       "      <td>28.73</td>\n",
       "      <td>No</td>\n",
       "      <td>0.0</td>\n",
       "      <td>30.0</td>\n",
       "      <td>30.0</td>\n",
       "      <td>8.0</td>\n",
       "    </tr>\n",
       "    <tr>\n",
       "      <th>4</th>\n",
       "      <td>Good</td>\n",
       "      <td>Within the past year</td>\n",
       "      <td>No</td>\n",
       "      <td>No</td>\n",
       "      <td>No</td>\n",
       "      <td>No</td>\n",
       "      <td>No</td>\n",
       "      <td>No</td>\n",
       "      <td>No</td>\n",
       "      <td>Male</td>\n",
       "      <td>80+</td>\n",
       "      <td>191.0</td>\n",
       "      <td>88.45</td>\n",
       "      <td>24.37</td>\n",
       "      <td>Yes</td>\n",
       "      <td>0.0</td>\n",
       "      <td>8.0</td>\n",
       "      <td>4.0</td>\n",
       "      <td>0.0</td>\n",
       "    </tr>\n",
       "  </tbody>\n",
       "</table>\n",
       "</div>"
      ],
      "text/plain": [
       "  General_Health                  Checkup Exercise Heart_Disease Skin_Cancer  \\\n",
       "0           Poor  Within the past 2 years       No            No          No   \n",
       "1      Very Good     Within the past year       No           Yes          No   \n",
       "2      Very Good     Within the past year      Yes            No          No   \n",
       "3           Poor     Within the past year      Yes           Yes          No   \n",
       "4           Good     Within the past year       No            No          No   \n",
       "\n",
       "  Other_Cancer Depression Diabetes Arthritis     Sex Age_Category  \\\n",
       "0           No         No       No       Yes  Female        70-74   \n",
       "1           No         No      Yes        No  Female        70-74   \n",
       "2           No         No      Yes        No  Female        60-64   \n",
       "3           No         No      Yes        No    Male        75-79   \n",
       "4           No         No       No        No    Male          80+   \n",
       "\n",
       "   Height_(cm)  Weight_(kg)    BMI Smoking_History  Alcohol_Consumption  \\\n",
       "0        150.0        32.66  14.54             Yes                  0.0   \n",
       "1        165.0        77.11  28.29              No                  0.0   \n",
       "2        163.0        88.45  33.47              No                  4.0   \n",
       "3        180.0        93.44  28.73              No                  0.0   \n",
       "4        191.0        88.45  24.37             Yes                  0.0   \n",
       "\n",
       "   Fruit_Consumption  Green_Vegetables_Consumption  FriedPotato_Consumption  \n",
       "0               30.0                          16.0                     12.0  \n",
       "1               30.0                           0.0                      4.0  \n",
       "2               12.0                           3.0                     16.0  \n",
       "3               30.0                          30.0                      8.0  \n",
       "4                8.0                           4.0                      0.0  "
      ]
     },
     "execution_count": 2,
     "metadata": {},
     "output_type": "execute_result"
    }
   ],
   "source": [
    "df = pd.read_csv(\"/kaggle/input/cardiovascular-diseases-risk-prediction-dataset/CVD_cleaned.csv\")\n",
    "df.head()"
   ]
  },
  {
   "cell_type": "code",
   "execution_count": 3,
   "id": "58eb62e0",
   "metadata": {
    "execution": {
     "iopub.execute_input": "2023-08-08T07:48:47.088535Z",
     "iopub.status.busy": "2023-08-08T07:48:47.088151Z",
     "iopub.status.idle": "2023-08-08T07:48:48.289704Z",
     "shell.execute_reply": "2023-08-08T07:48:48.288589Z"
    },
    "papermill": {
     "duration": 1.216158,
     "end_time": "2023-08-08T07:48:48.294809",
     "exception": false,
     "start_time": "2023-08-08T07:48:47.078651",
     "status": "completed"
    },
    "tags": []
   },
   "outputs": [
    {
     "name": "stdout",
     "output_type": "stream",
     "text": [
      "<class 'pandas.core.frame.DataFrame'>\n",
      "RangeIndex: 308854 entries, 0 to 308853\n",
      "Data columns (total 19 columns):\n",
      " #   Column                        Non-Null Count   Dtype  \n",
      "---  ------                        --------------   -----  \n",
      " 0   General_Health                308854 non-null  object \n",
      " 1   Checkup                       308854 non-null  object \n",
      " 2   Exercise                      308854 non-null  object \n",
      " 3   Heart_Disease                 308854 non-null  object \n",
      " 4   Skin_Cancer                   308854 non-null  object \n",
      " 5   Other_Cancer                  308854 non-null  object \n",
      " 6   Depression                    308854 non-null  object \n",
      " 7   Diabetes                      308854 non-null  object \n",
      " 8   Arthritis                     308854 non-null  object \n",
      " 9   Sex                           308854 non-null  object \n",
      " 10  Age_Category                  308854 non-null  object \n",
      " 11  Height_(cm)                   308854 non-null  float64\n",
      " 12  Weight_(kg)                   308854 non-null  float64\n",
      " 13  BMI                           308854 non-null  float64\n",
      " 14  Smoking_History               308854 non-null  object \n",
      " 15  Alcohol_Consumption           308854 non-null  float64\n",
      " 16  Fruit_Consumption             308854 non-null  float64\n",
      " 17  Green_Vegetables_Consumption  308854 non-null  float64\n",
      " 18  FriedPotato_Consumption       308854 non-null  float64\n",
      "dtypes: float64(7), object(12)\n",
      "memory usage: 44.8+ MB\n"
     ]
    }
   ],
   "source": [
    "df.info()"
   ]
  },
  {
   "cell_type": "markdown",
   "id": "83a78ecb",
   "metadata": {
    "papermill": {
     "duration": 0.007602,
     "end_time": "2023-08-08T07:48:48.310439",
     "exception": false,
     "start_time": "2023-08-08T07:48:48.302837",
     "status": "completed"
    },
    "tags": []
   },
   "source": [
    "According to the output we have  308854 (0 to 308853), as well as 81 features with \"Heart_Disease\" as target variable. Fortunaly the ir no miising values for all the features and the target variable."
   ]
  },
  {
   "cell_type": "markdown",
   "id": "f9ac7142",
   "metadata": {
    "papermill": {
     "duration": 0.00792,
     "end_time": "2023-08-08T07:48:48.327497",
     "exception": false,
     "start_time": "2023-08-08T07:48:48.319577",
     "status": "completed"
    },
    "tags": []
   },
   "source": [
    "## Statistical Description\n",
    "\n",
    "Use descib e method in order to describe the columns using first order statistcal descriptos.\n",
    "\n",
    "This description only has performed in numeric values."
   ]
  },
  {
   "cell_type": "code",
   "execution_count": 4,
   "id": "2b5a0217",
   "metadata": {
    "execution": {
     "iopub.execute_input": "2023-08-08T07:48:48.345592Z",
     "iopub.status.busy": "2023-08-08T07:48:48.345167Z",
     "iopub.status.idle": "2023-08-08T07:48:48.483800Z",
     "shell.execute_reply": "2023-08-08T07:48:48.482535Z"
    },
    "papermill": {
     "duration": 0.15089,
     "end_time": "2023-08-08T07:48:48.486559",
     "exception": false,
     "start_time": "2023-08-08T07:48:48.335669",
     "status": "completed"
    },
    "tags": []
   },
   "outputs": [
    {
     "data": {
      "text/html": [
       "<div>\n",
       "<style scoped>\n",
       "    .dataframe tbody tr th:only-of-type {\n",
       "        vertical-align: middle;\n",
       "    }\n",
       "\n",
       "    .dataframe tbody tr th {\n",
       "        vertical-align: top;\n",
       "    }\n",
       "\n",
       "    .dataframe thead th {\n",
       "        text-align: right;\n",
       "    }\n",
       "</style>\n",
       "<table border=\"1\" class=\"dataframe\">\n",
       "  <thead>\n",
       "    <tr style=\"text-align: right;\">\n",
       "      <th></th>\n",
       "      <th>Height_(cm)</th>\n",
       "      <th>Weight_(kg)</th>\n",
       "      <th>BMI</th>\n",
       "      <th>Alcohol_Consumption</th>\n",
       "      <th>Fruit_Consumption</th>\n",
       "      <th>Green_Vegetables_Consumption</th>\n",
       "      <th>FriedPotato_Consumption</th>\n",
       "    </tr>\n",
       "  </thead>\n",
       "  <tbody>\n",
       "    <tr>\n",
       "      <th>count</th>\n",
       "      <td>308854.000000</td>\n",
       "      <td>308854.000000</td>\n",
       "      <td>308854.000000</td>\n",
       "      <td>308854.000000</td>\n",
       "      <td>308854.000000</td>\n",
       "      <td>308854.000000</td>\n",
       "      <td>308854.000000</td>\n",
       "    </tr>\n",
       "    <tr>\n",
       "      <th>mean</th>\n",
       "      <td>170.615249</td>\n",
       "      <td>83.588655</td>\n",
       "      <td>28.626211</td>\n",
       "      <td>5.096366</td>\n",
       "      <td>29.835200</td>\n",
       "      <td>15.110441</td>\n",
       "      <td>6.296616</td>\n",
       "    </tr>\n",
       "    <tr>\n",
       "      <th>std</th>\n",
       "      <td>10.658026</td>\n",
       "      <td>21.343210</td>\n",
       "      <td>6.522323</td>\n",
       "      <td>8.199763</td>\n",
       "      <td>24.875735</td>\n",
       "      <td>14.926238</td>\n",
       "      <td>8.582954</td>\n",
       "    </tr>\n",
       "    <tr>\n",
       "      <th>min</th>\n",
       "      <td>91.000000</td>\n",
       "      <td>24.950000</td>\n",
       "      <td>12.020000</td>\n",
       "      <td>0.000000</td>\n",
       "      <td>0.000000</td>\n",
       "      <td>0.000000</td>\n",
       "      <td>0.000000</td>\n",
       "    </tr>\n",
       "    <tr>\n",
       "      <th>25%</th>\n",
       "      <td>163.000000</td>\n",
       "      <td>68.040000</td>\n",
       "      <td>24.210000</td>\n",
       "      <td>0.000000</td>\n",
       "      <td>12.000000</td>\n",
       "      <td>4.000000</td>\n",
       "      <td>2.000000</td>\n",
       "    </tr>\n",
       "    <tr>\n",
       "      <th>50%</th>\n",
       "      <td>170.000000</td>\n",
       "      <td>81.650000</td>\n",
       "      <td>27.440000</td>\n",
       "      <td>1.000000</td>\n",
       "      <td>30.000000</td>\n",
       "      <td>12.000000</td>\n",
       "      <td>4.000000</td>\n",
       "    </tr>\n",
       "    <tr>\n",
       "      <th>75%</th>\n",
       "      <td>178.000000</td>\n",
       "      <td>95.250000</td>\n",
       "      <td>31.850000</td>\n",
       "      <td>6.000000</td>\n",
       "      <td>30.000000</td>\n",
       "      <td>20.000000</td>\n",
       "      <td>8.000000</td>\n",
       "    </tr>\n",
       "    <tr>\n",
       "      <th>max</th>\n",
       "      <td>241.000000</td>\n",
       "      <td>293.020000</td>\n",
       "      <td>99.330000</td>\n",
       "      <td>30.000000</td>\n",
       "      <td>120.000000</td>\n",
       "      <td>128.000000</td>\n",
       "      <td>128.000000</td>\n",
       "    </tr>\n",
       "  </tbody>\n",
       "</table>\n",
       "</div>"
      ],
      "text/plain": [
       "         Height_(cm)    Weight_(kg)            BMI  Alcohol_Consumption  \\\n",
       "count  308854.000000  308854.000000  308854.000000        308854.000000   \n",
       "mean      170.615249      83.588655      28.626211             5.096366   \n",
       "std        10.658026      21.343210       6.522323             8.199763   \n",
       "min        91.000000      24.950000      12.020000             0.000000   \n",
       "25%       163.000000      68.040000      24.210000             0.000000   \n",
       "50%       170.000000      81.650000      27.440000             1.000000   \n",
       "75%       178.000000      95.250000      31.850000             6.000000   \n",
       "max       241.000000     293.020000      99.330000            30.000000   \n",
       "\n",
       "       Fruit_Consumption  Green_Vegetables_Consumption  \\\n",
       "count      308854.000000                 308854.000000   \n",
       "mean           29.835200                     15.110441   \n",
       "std            24.875735                     14.926238   \n",
       "min             0.000000                      0.000000   \n",
       "25%            12.000000                      4.000000   \n",
       "50%            30.000000                     12.000000   \n",
       "75%            30.000000                     20.000000   \n",
       "max           120.000000                    128.000000   \n",
       "\n",
       "       FriedPotato_Consumption  \n",
       "count            308854.000000  \n",
       "mean                  6.296616  \n",
       "std                   8.582954  \n",
       "min                   0.000000  \n",
       "25%                   2.000000  \n",
       "50%                   4.000000  \n",
       "75%                   8.000000  \n",
       "max                 128.000000  "
      ]
     },
     "execution_count": 4,
     "metadata": {},
     "output_type": "execute_result"
    }
   ],
   "source": [
    "df.describe()"
   ]
  },
  {
   "cell_type": "markdown",
   "id": "9c037628",
   "metadata": {
    "papermill": {
     "duration": 0.008697,
     "end_time": "2023-08-08T07:48:48.503667",
     "exception": false,
     "start_time": "2023-08-08T07:48:48.494970",
     "status": "completed"
    },
    "tags": []
   },
   "source": [
    "## Tranform Heart_Disease column to binary\n",
    "\n",
    "In order to use in the following analysis wee need to tranform thsi column to numeric."
   ]
  },
  {
   "cell_type": "code",
   "execution_count": 5,
   "id": "03f93a3c",
   "metadata": {
    "execution": {
     "iopub.execute_input": "2023-08-08T07:48:48.522271Z",
     "iopub.status.busy": "2023-08-08T07:48:48.521834Z",
     "iopub.status.idle": "2023-08-08T07:48:48.553325Z",
     "shell.execute_reply": "2023-08-08T07:48:48.552287Z"
    },
    "papermill": {
     "duration": 0.043917,
     "end_time": "2023-08-08T07:48:48.556061",
     "exception": false,
     "start_time": "2023-08-08T07:48:48.512144",
     "status": "completed"
    },
    "tags": []
   },
   "outputs": [
    {
     "data": {
      "text/plain": [
       "array(['No', 'Yes'], dtype=object)"
      ]
     },
     "execution_count": 5,
     "metadata": {},
     "output_type": "execute_result"
    }
   ],
   "source": [
    "df[\"Heart_Disease\"].unique()"
   ]
  },
  {
   "cell_type": "code",
   "execution_count": 6,
   "id": "b1eddc31",
   "metadata": {
    "execution": {
     "iopub.execute_input": "2023-08-08T07:48:48.574655Z",
     "iopub.status.busy": "2023-08-08T07:48:48.574236Z",
     "iopub.status.idle": "2023-08-08T07:48:48.635202Z",
     "shell.execute_reply": "2023-08-08T07:48:48.634060Z"
    },
    "papermill": {
     "duration": 0.073028,
     "end_time": "2023-08-08T07:48:48.637468",
     "exception": false,
     "start_time": "2023-08-08T07:48:48.564440",
     "status": "completed"
    },
    "tags": []
   },
   "outputs": [
    {
     "data": {
      "text/plain": [
       "No     283883\n",
       "Yes     24971\n",
       "Name: Heart_Disease, dtype: int64"
      ]
     },
     "execution_count": 6,
     "metadata": {},
     "output_type": "execute_result"
    }
   ],
   "source": [
    "df[\"Heart_Disease\"].value_counts()"
   ]
  },
  {
   "cell_type": "code",
   "execution_count": 7,
   "id": "aa7e1d03",
   "metadata": {
    "execution": {
     "iopub.execute_input": "2023-08-08T07:48:48.656882Z",
     "iopub.status.busy": "2023-08-08T07:48:48.656437Z",
     "iopub.status.idle": "2023-08-08T07:48:48.900756Z",
     "shell.execute_reply": "2023-08-08T07:48:48.899429Z"
    },
    "papermill": {
     "duration": 0.25727,
     "end_time": "2023-08-08T07:48:48.903549",
     "exception": false,
     "start_time": "2023-08-08T07:48:48.646279",
     "status": "completed"
    },
    "tags": []
   },
   "outputs": [],
   "source": [
    "binary_values = {'No': 0, 'Yes': 1}\n",
    "\n",
    "# Replace values using the dictionary\n",
    "df[\"Heart_Disease\"] = df[\"Heart_Disease\"].replace(binary_values)"
   ]
  },
  {
   "cell_type": "code",
   "execution_count": 8,
   "id": "59854ba0",
   "metadata": {
    "execution": {
     "iopub.execute_input": "2023-08-08T07:48:48.922452Z",
     "iopub.status.busy": "2023-08-08T07:48:48.922037Z",
     "iopub.status.idle": "2023-08-08T07:48:48.935054Z",
     "shell.execute_reply": "2023-08-08T07:48:48.933634Z"
    },
    "papermill": {
     "duration": 0.025387,
     "end_time": "2023-08-08T07:48:48.937580",
     "exception": false,
     "start_time": "2023-08-08T07:48:48.912193",
     "status": "completed"
    },
    "tags": []
   },
   "outputs": [
    {
     "data": {
      "text/plain": [
       "0    283883\n",
       "1     24971\n",
       "Name: Heart_Disease, dtype: int64"
      ]
     },
     "execution_count": 8,
     "metadata": {},
     "output_type": "execute_result"
    }
   ],
   "source": [
    "df[\"Heart_Disease\"].value_counts()"
   ]
  },
  {
   "cell_type": "markdown",
   "id": "c1511ea9",
   "metadata": {
    "papermill": {
     "duration": 0.008783,
     "end_time": "2023-08-08T07:48:48.955146",
     "exception": false,
     "start_time": "2023-08-08T07:48:48.946363",
     "status": "completed"
    },
    "tags": []
   },
   "source": [
    "## Look for correlations\n",
    "\n",
    "We use corr() method from our pandas object in order to look for correlations between the features. The correlation performed is based in Coeficient Pearsonn Correlation that is the noramlized form of covariance, that indicates correlation between variables, when 1 is potivie correlation, -1 is negative correlation and 0 means ther is no corelation. Remember only aplies to numeric values."
   ]
  },
  {
   "cell_type": "code",
   "execution_count": 9,
   "id": "0292ae12",
   "metadata": {
    "execution": {
     "iopub.execute_input": "2023-08-08T07:48:48.974520Z",
     "iopub.status.busy": "2023-08-08T07:48:48.974109Z",
     "iopub.status.idle": "2023-08-08T07:48:49.080914Z",
     "shell.execute_reply": "2023-08-08T07:48:49.079631Z"
    },
    "papermill": {
     "duration": 0.119541,
     "end_time": "2023-08-08T07:48:49.083550",
     "exception": false,
     "start_time": "2023-08-08T07:48:48.964009",
     "status": "completed"
    },
    "tags": []
   },
   "outputs": [
    {
     "data": {
      "text/html": [
       "<div>\n",
       "<style scoped>\n",
       "    .dataframe tbody tr th:only-of-type {\n",
       "        vertical-align: middle;\n",
       "    }\n",
       "\n",
       "    .dataframe tbody tr th {\n",
       "        vertical-align: top;\n",
       "    }\n",
       "\n",
       "    .dataframe thead th {\n",
       "        text-align: right;\n",
       "    }\n",
       "</style>\n",
       "<table border=\"1\" class=\"dataframe\">\n",
       "  <thead>\n",
       "    <tr style=\"text-align: right;\">\n",
       "      <th></th>\n",
       "      <th>Heart_Disease</th>\n",
       "      <th>Height_(cm)</th>\n",
       "      <th>Weight_(kg)</th>\n",
       "      <th>BMI</th>\n",
       "      <th>Alcohol_Consumption</th>\n",
       "      <th>Fruit_Consumption</th>\n",
       "      <th>Green_Vegetables_Consumption</th>\n",
       "      <th>FriedPotato_Consumption</th>\n",
       "    </tr>\n",
       "  </thead>\n",
       "  <tbody>\n",
       "    <tr>\n",
       "      <th>Heart_Disease</th>\n",
       "      <td>1.000000</td>\n",
       "      <td>0.015780</td>\n",
       "      <td>0.045875</td>\n",
       "      <td>0.042666</td>\n",
       "      <td>-0.036569</td>\n",
       "      <td>-0.020055</td>\n",
       "      <td>-0.024043</td>\n",
       "      <td>-0.009227</td>\n",
       "    </tr>\n",
       "    <tr>\n",
       "      <th>Height_(cm)</th>\n",
       "      <td>0.015780</td>\n",
       "      <td>1.000000</td>\n",
       "      <td>0.472186</td>\n",
       "      <td>-0.027408</td>\n",
       "      <td>0.128835</td>\n",
       "      <td>-0.045911</td>\n",
       "      <td>-0.030148</td>\n",
       "      <td>0.108795</td>\n",
       "    </tr>\n",
       "    <tr>\n",
       "      <th>Weight_(kg)</th>\n",
       "      <td>0.045875</td>\n",
       "      <td>0.472186</td>\n",
       "      <td>1.000000</td>\n",
       "      <td>0.859699</td>\n",
       "      <td>-0.032373</td>\n",
       "      <td>-0.090612</td>\n",
       "      <td>-0.075904</td>\n",
       "      <td>0.096351</td>\n",
       "    </tr>\n",
       "    <tr>\n",
       "      <th>BMI</th>\n",
       "      <td>0.042666</td>\n",
       "      <td>-0.027408</td>\n",
       "      <td>0.859699</td>\n",
       "      <td>1.000000</td>\n",
       "      <td>-0.108684</td>\n",
       "      <td>-0.076611</td>\n",
       "      <td>-0.070640</td>\n",
       "      <td>0.048366</td>\n",
       "    </tr>\n",
       "    <tr>\n",
       "      <th>Alcohol_Consumption</th>\n",
       "      <td>-0.036569</td>\n",
       "      <td>0.128835</td>\n",
       "      <td>-0.032373</td>\n",
       "      <td>-0.108684</td>\n",
       "      <td>1.000000</td>\n",
       "      <td>-0.012562</td>\n",
       "      <td>0.060053</td>\n",
       "      <td>0.020543</td>\n",
       "    </tr>\n",
       "    <tr>\n",
       "      <th>Fruit_Consumption</th>\n",
       "      <td>-0.020055</td>\n",
       "      <td>-0.045911</td>\n",
       "      <td>-0.090612</td>\n",
       "      <td>-0.076611</td>\n",
       "      <td>-0.012562</td>\n",
       "      <td>1.000000</td>\n",
       "      <td>0.270430</td>\n",
       "      <td>-0.060311</td>\n",
       "    </tr>\n",
       "    <tr>\n",
       "      <th>Green_Vegetables_Consumption</th>\n",
       "      <td>-0.024043</td>\n",
       "      <td>-0.030148</td>\n",
       "      <td>-0.075904</td>\n",
       "      <td>-0.070640</td>\n",
       "      <td>0.060053</td>\n",
       "      <td>0.270430</td>\n",
       "      <td>1.000000</td>\n",
       "      <td>0.003180</td>\n",
       "    </tr>\n",
       "    <tr>\n",
       "      <th>FriedPotato_Consumption</th>\n",
       "      <td>-0.009227</td>\n",
       "      <td>0.108795</td>\n",
       "      <td>0.096351</td>\n",
       "      <td>0.048366</td>\n",
       "      <td>0.020543</td>\n",
       "      <td>-0.060311</td>\n",
       "      <td>0.003180</td>\n",
       "      <td>1.000000</td>\n",
       "    </tr>\n",
       "  </tbody>\n",
       "</table>\n",
       "</div>"
      ],
      "text/plain": [
       "                              Heart_Disease  Height_(cm)  Weight_(kg)  \\\n",
       "Heart_Disease                      1.000000     0.015780     0.045875   \n",
       "Height_(cm)                        0.015780     1.000000     0.472186   \n",
       "Weight_(kg)                        0.045875     0.472186     1.000000   \n",
       "BMI                                0.042666    -0.027408     0.859699   \n",
       "Alcohol_Consumption               -0.036569     0.128835    -0.032373   \n",
       "Fruit_Consumption                 -0.020055    -0.045911    -0.090612   \n",
       "Green_Vegetables_Consumption      -0.024043    -0.030148    -0.075904   \n",
       "FriedPotato_Consumption           -0.009227     0.108795     0.096351   \n",
       "\n",
       "                                   BMI  Alcohol_Consumption  \\\n",
       "Heart_Disease                 0.042666            -0.036569   \n",
       "Height_(cm)                  -0.027408             0.128835   \n",
       "Weight_(kg)                   0.859699            -0.032373   \n",
       "BMI                           1.000000            -0.108684   \n",
       "Alcohol_Consumption          -0.108684             1.000000   \n",
       "Fruit_Consumption            -0.076611            -0.012562   \n",
       "Green_Vegetables_Consumption -0.070640             0.060053   \n",
       "FriedPotato_Consumption       0.048366             0.020543   \n",
       "\n",
       "                              Fruit_Consumption  Green_Vegetables_Consumption  \\\n",
       "Heart_Disease                         -0.020055                     -0.024043   \n",
       "Height_(cm)                           -0.045911                     -0.030148   \n",
       "Weight_(kg)                           -0.090612                     -0.075904   \n",
       "BMI                                   -0.076611                     -0.070640   \n",
       "Alcohol_Consumption                   -0.012562                      0.060053   \n",
       "Fruit_Consumption                      1.000000                      0.270430   \n",
       "Green_Vegetables_Consumption           0.270430                      1.000000   \n",
       "FriedPotato_Consumption               -0.060311                      0.003180   \n",
       "\n",
       "                              FriedPotato_Consumption  \n",
       "Heart_Disease                               -0.009227  \n",
       "Height_(cm)                                  0.108795  \n",
       "Weight_(kg)                                  0.096351  \n",
       "BMI                                          0.048366  \n",
       "Alcohol_Consumption                          0.020543  \n",
       "Fruit_Consumption                           -0.060311  \n",
       "Green_Vegetables_Consumption                 0.003180  \n",
       "FriedPotato_Consumption                      1.000000  "
      ]
     },
     "execution_count": 9,
     "metadata": {},
     "output_type": "execute_result"
    }
   ],
   "source": [
    "hous_num = df.select_dtypes(include = ['float64', 'int64'])\n",
    "hous_num.corr()"
   ]
  },
  {
   "cell_type": "markdown",
   "id": "06aa6c09",
   "metadata": {
    "papermill": {
     "duration": 0.009544,
     "end_time": "2023-08-08T07:48:49.102618",
     "exception": false,
     "start_time": "2023-08-08T07:48:49.093074",
     "status": "completed"
    },
    "tags": []
   },
   "source": [
    "Now only use see correlations between te features and the outpút, but establishing an thrshold of 0.5 in order to visualize the more correlated features with the output (negative and positive correlation)"
   ]
  },
  {
   "cell_type": "code",
   "execution_count": 10,
   "id": "1a3bdcbf",
   "metadata": {
    "execution": {
     "iopub.execute_input": "2023-08-08T07:48:49.122622Z",
     "iopub.status.busy": "2023-08-08T07:48:49.122155Z",
     "iopub.status.idle": "2023-08-08T07:48:49.200045Z",
     "shell.execute_reply": "2023-08-08T07:48:49.198556Z"
    },
    "papermill": {
     "duration": 0.090558,
     "end_time": "2023-08-08T07:48:49.202271",
     "exception": false,
     "start_time": "2023-08-08T07:48:49.111713",
     "status": "completed"
    },
    "tags": []
   },
   "outputs": [
    {
     "name": "stdout",
     "output_type": "stream",
     "text": [
      "There is 0 strongly correlated values with SalePrice:\n",
      "Series([], Name: Heart_Disease, dtype: float64)\n"
     ]
    }
   ],
   "source": [
    "hous_num_corr = hous_num.corr()[\"Heart_Disease\"][1:]\n",
    "top_features = hous_num_corr[abs(hous_num_corr) > 0.5].sort_values(ascending=False) #displays pearsons correlation coefficient greater than 0.5\n",
    "print(\"There is {} strongly correlated values with SalePrice:\\n{}\".format(len(top_features), top_features))"
   ]
  },
  {
   "cell_type": "markdown",
   "id": "64af1013",
   "metadata": {
    "papermill": {
     "duration": 0.008844,
     "end_time": "2023-08-08T07:48:49.220350",
     "exception": false,
     "start_time": "2023-08-08T07:48:49.211506",
     "status": "completed"
    },
    "tags": []
   },
   "source": [
    "There is no correlated features.\n",
    "\n",
    "see more closed the values."
   ]
  },
  {
   "cell_type": "code",
   "execution_count": 11,
   "id": "cc1818eb",
   "metadata": {
    "execution": {
     "iopub.execute_input": "2023-08-08T07:48:49.241123Z",
     "iopub.status.busy": "2023-08-08T07:48:49.240667Z",
     "iopub.status.idle": "2023-08-08T07:48:49.248607Z",
     "shell.execute_reply": "2023-08-08T07:48:49.247453Z"
    },
    "papermill": {
     "duration": 0.021367,
     "end_time": "2023-08-08T07:48:49.250926",
     "exception": false,
     "start_time": "2023-08-08T07:48:49.229559",
     "status": "completed"
    },
    "tags": []
   },
   "outputs": [
    {
     "data": {
      "text/plain": [
       "Height_(cm)                     0.015780\n",
       "Weight_(kg)                     0.045875\n",
       "BMI                             0.042666\n",
       "Alcohol_Consumption            -0.036569\n",
       "Fruit_Consumption              -0.020055\n",
       "Green_Vegetables_Consumption   -0.024043\n",
       "FriedPotato_Consumption        -0.009227\n",
       "Name: Heart_Disease, dtype: float64"
      ]
     },
     "execution_count": 11,
     "metadata": {},
     "output_type": "execute_result"
    }
   ],
   "source": [
    "hous_num_corr"
   ]
  },
  {
   "cell_type": "markdown",
   "id": "eb7ee692",
   "metadata": {
    "papermill": {
     "duration": 0.008994,
     "end_time": "2023-08-08T07:48:49.269470",
     "exception": false,
     "start_time": "2023-08-08T07:48:49.260476",
     "status": "completed"
    },
    "tags": []
   },
   "source": [
    "Now, let's generate some bar plots."
   ]
  },
  {
   "cell_type": "code",
   "execution_count": 12,
   "id": "ea27bb90",
   "metadata": {
    "execution": {
     "iopub.execute_input": "2023-08-08T07:48:49.289962Z",
     "iopub.status.busy": "2023-08-08T07:48:49.289505Z",
     "iopub.status.idle": "2023-08-08T07:48:59.172808Z",
     "shell.execute_reply": "2023-08-08T07:48:59.171944Z"
    },
    "papermill": {
     "duration": 9.89666,
     "end_time": "2023-08-08T07:48:59.175332",
     "exception": false,
     "start_time": "2023-08-08T07:48:49.278672",
     "status": "completed"
    },
    "tags": []
   },
   "outputs": [
    {
     "name": "stderr",
     "output_type": "stream",
     "text": [
      "/opt/conda/lib/python3.10/site-packages/seaborn/axisgrid.py:118: UserWarning: The figure layout has changed to tight\n",
      "  self._figure.tight_layout(*args, **kwargs)\n",
      "/opt/conda/lib/python3.10/site-packages/seaborn/axisgrid.py:118: UserWarning: The figure layout has changed to tight\n",
      "  self._figure.tight_layout(*args, **kwargs)\n"
     ]
    },
    {
     "data": {
      "image/png": "[encoded data removed]",
      "text/plain": [
       "<Figure size 1250x250 with 6 Axes>"
      ]
     },
     "metadata": {},
     "output_type": "display_data"
    },
    {
     "data": {
      "image/png": "[encoded data removed]",
      "text/plain": [
       "<Figure size 750x250 with 3 Axes>"
      ]
     },
     "metadata": {},
     "output_type": "display_data"
    }
   ],
   "source": [
    "for i in range(0, len(hous_num.columns), 5):\n",
    "    sns.pairplot(data=hous_num,\n",
    "                 x_vars=hous_num.columns[i:i+5],\n",
    "                 y_vars=['Heart_Disease'])"
   ]
  },
  {
   "cell_type": "code",
   "execution_count": null,
   "id": "ee18f43f",
   "metadata": {
    "papermill": {
     "duration": 0.010322,
     "end_time": "2023-08-08T07:48:59.196551",
     "exception": false,
     "start_time": "2023-08-08T07:48:59.186229",
     "status": "completed"
    },
    "tags": []
   },
   "outputs": [],
   "source": []
  }
 ],
 "metadata": {
  "kernelspec": {
   "display_name": "Python 3",
   "language": "python",
   "name": "python3"
  },
  "language_info": {
   "codemirror_mode": {
    "name": "ipython",
    "version": 3
   },
   "file_extension": ".py",
   "mimetype": "text/x-python",
   "name": "python",
   "nbconvert_exporter": "python",
   "pygments_lexer": "ipython3",
   "version": "3.10.12"
  },
  "papermill": {
   "default_parameters": {},
   "duration": 27.690955,
   "end_time": "2023-08-08T07:49:00.232135",
   "environment_variables": {},
   "exception": null,
   "input_path": "__notebook__.ipynb",
   "output_path": "__notebook__.ipynb",
   "parameters": {},
   "start_time": "2023-08-08T07:48:32.541180",
   "version": "2.4.0"
  }
 },
 "nbformat": 4,
 "nbformat_minor": 5
}
